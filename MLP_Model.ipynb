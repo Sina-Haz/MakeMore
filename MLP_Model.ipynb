{
 "cells": [
  {
   "cell_type": "code",
   "execution_count": 1,
   "id": "0d1eee40-0738-465d-9787-4cacce700ab4",
   "metadata": {},
   "outputs": [],
   "source": [
    "import torch\n",
    "import torch.nn.functional as F\n",
    "import matplotlib.pyplot as plt\n",
    "%matplotlib inline"
   ]
  },
  {
   "cell_type": "code",
   "execution_count": 2,
   "id": "a2b399d8-f3b1-41f6-8a86-8cc3733476e5",
   "metadata": {},
   "outputs": [],
   "source": [
    "words = open('names.txt', 'r').read().splitlines()"
   ]
  },
  {
   "cell_type": "code",
   "execution_count": 3,
   "id": "0f36182d-9f5f-49c9-90f5-94e5925c1ff6",
   "metadata": {},
   "outputs": [
    {
     "data": {
      "text/plain": [
       "['emma', 'olivia', 'ava', 'isabella', 'sophia']"
      ]
     },
     "execution_count": 3,
     "metadata": {},
     "output_type": "execute_result"
    }
   ],
   "source": [
    "words[:5]"
   ]
  },
  {
   "cell_type": "code",
   "execution_count": 6,
   "id": "d3c65f49-1e88-4b2f-97cd-fa5408415620",
   "metadata": {},
   "outputs": [
    {
     "name": "stdout",
     "output_type": "stream",
     "text": [
      "{1: 'a', 2: 'b', 3: 'c', 4: 'd', 5: 'e', 6: 'f', 7: 'g', 8: 'h', 9: 'i', 10: 'j', 11: 'k', 12: 'l', 13: 'm', 14: 'n', 15: 'o', 16: 'p', 17: 'q', 18: 'r', 19: 's', 20: 't', 21: 'u', 22: 'v', 23: 'w', 24: 'x', 25: 'y', 26: 'z', 0: '.'}\n"
     ]
    }
   ],
   "source": [
    "chars = sorted(list(set(''.join(words))))\n",
    "stoi = {s:i+1 for i, s in enumerate(chars)}\n",
    "stoi['.'] = 0\n",
    "itos = {i:s for s,i in stoi.items()}\n",
    "print(itos)"
   ]
  },
  {
   "cell_type": "code",
   "execution_count": 12,
   "id": "61ba9603-205f-426b-a91f-8f4737b0f352",
   "metadata": {},
   "outputs": [],
   "source": [
    "def process_data(block_size, words, num_words = None):\n",
    "    X, Y = [], []\n",
    "\n",
    "    if not num_words: num_words = len(words)\n",
    "\n",
    "    for w in words[:num_words]:\n",
    "        context = [0] * block_size # initial context is just '.' * n (beggining of word)\n",
    "        for char in w + '.':\n",
    "            ix = stoi[char]\n",
    "            X.append(context)\n",
    "            Y.append(ix)\n",
    "            # print(''.join(itos[c] for c in context), '--->', char)\n",
    "            context = context[1:] + [ix]\n",
    "    X = torch.tensor(X)\n",
    "    Y = torch.tensor(Y)\n",
    "    return X, Y\n",
    "\n",
    "process_data(4, words, 5);"
   ]
  },
  {
   "cell_type": "markdown",
   "id": "5f6bcc5b-41a6-4f45-a5a7-09e51a04acb5",
   "metadata": {},
   "source": [
    "### What is an MLP\n",
    "\n",
    "Refer to this [paper](https://www.jmlr.org/papers/volume3/bengio03a/bengio03a.pdf) to read more.\n",
    "\n",
    "This is essentially our architecture: ![img](https://miro.medium.com/v2/resize:fit:1400/1*EqKiy4-6tuLSoPP_kub33Q.png)\n",
    "Main idea of paper:\n",
    " - Hard to approximate discrete joint probability distribution of NLP tasks magnitude\n",
    " - Instead we can \"learn\" how to convert contexts/previous data into a feature vector in $\\mathbb{R}^m$ (this is what C is doing)\n",
    " - In this way we can approximate a smooth/continuous probability distribution\n",
    " - Also has added benefits that similar words syntactically and semantically will be neighboring vectors, so even if we encounter data that is not exactly included in training we can generalize somewhat\n",
    " - Furthermore we see that we can embed these vectors in a lower dimensional space. i.e. in the paper, they embed words from a vocabulary of 17,000 into vectors in as small spaces as $\\mathbb{R}^30$.\n",
    " - So for our task with only 27 possible characters we won't need to work with high dim vectors only in order of $\\mathbb{R}^2$ or $\\mathbb{R}^3$\n",
    "\n",
    "### How do we embed?\n",
    " - Previously we used one-hot encoding to turn character indexes into vectors of dim 27, and then used matrix multiplication to retrieve the necessary numbers\n",
    " - In bigrams we see that the same result could've been achieved by simple row indexing b/c the 0's act as a mask and we only multiply the index of interest by 1 so it is preserved\n",
    " - Pytorch allows us to use powerful indexing methods so that for the entire dataset X, we can simply index the necessary vectors using $C[X]$.\n",
    " - If X is using say a block size of 3, and has $m$ examples it is m x 3. C[X] m x 3 x n where n is the number of columns of C. For every number in X, we treated it as a row index."
   ]
  },
  {
   "cell_type": "code",
   "execution_count": 13,
   "id": "2a6f41a9-0cd9-40bd-94fd-b743ee4923c3",
   "metadata": {},
   "outputs": [],
   "source": [
    "X, Y = process_data(3, words)\n",
    "\n",
    "# Can embed vectors in R^2\n",
    "C = torch.randn((27, 2))"
   ]
  },
  {
   "cell_type": "code",
   "execution_count": 14,
   "id": "b1b12c0a-158a-426a-ab24-77af8139918c",
   "metadata": {},
   "outputs": [
    {
     "data": {
      "text/plain": [
       "torch.Size([228146, 3, 2])"
      ]
     },
     "execution_count": 14,
     "metadata": {},
     "output_type": "execute_result"
    }
   ],
   "source": [
    "emb = C[X]\n",
    "\n",
    "emb.shape"
   ]
  },
  {
   "cell_type": "code",
   "execution_count": 28,
   "id": "03590168-87eb-4640-bbe9-a2fc2a553f7f",
   "metadata": {},
   "outputs": [
    {
     "data": {
      "text/plain": [
       "True"
      ]
     },
     "execution_count": 28,
     "metadata": {},
     "output_type": "execute_result"
    }
   ],
   "source": [
    "# For our hidden layer we will have 3x2 = 6 inputs (3 2D vectors which we can flatten into 1 6D), \n",
    "# number of neurons in this layer is up to our discretion\n",
    "W1 = torch.randn((6, 100))\n",
    "b1 = torch.randn(100)\n",
    "\n",
    "e1 = emb.reshape((228146, 6))\n",
    "\n",
    "e2 = torch.cat((emb[:, 0, :],emb[:, 1, :], emb[:, 2, :]), 1)\n",
    "\n",
    "torch.allclose(e1, e2) # We see that these are both valid ways to reshape embedding vector"
   ]
  },
  {
   "cell_type": "code",
   "execution_count": 27,
   "id": "d772c4f0-7aa2-42d9-bfb0-a8b1094bd5a2",
   "metadata": {},
   "outputs": [
    {
     "data": {
      "text/plain": [
       "True"
      ]
     },
     "execution_count": 27,
     "metadata": {},
     "output_type": "execute_result"
    }
   ],
   "source": [
    "# Other way:\n",
    "e3 = torch.cat(torch.unbind(emb, 1), 1)\n",
    "\n",
    "torch.allclose(e1, e3)"
   ]
  },
  {
   "cell_type": "code",
   "execution_count": 26,
   "id": "59b963ec-a70b-44aa-bef6-b49e0077afbb",
   "metadata": {},
   "outputs": [
    {
     "data": {
      "text/plain": [
       "True"
      ]
     },
     "execution_count": 26,
     "metadata": {},
     "output_type": "execute_result"
    }
   ],
   "source": [
    "# The most efficient way however is to use torch.tensor.view(). This is because it doesn't move, copy, or iterate over memory\n",
    "# All it does is change internal attributes such as _size and _stride of torch.tensor \n",
    "# so it changes how we see/represent the same data (reshape uses view when possible, copies memory if necessary). Note\n",
    "# that view only works when we want to view tensor in specific shapes/subspaces, idk look up the rules if you need\n",
    "\n",
    "e4 = emb.view((228146, -1))\n",
    "\n",
    "torch.allclose(e1, e4)"
   ]
  },
  {
   "cell_type": "code",
   "execution_count": 33,
   "id": "dd4f6424-ec39-4bb0-8a97-3343778af5ae",
   "metadata": {},
   "outputs": [
    {
     "data": {
      "text/plain": [
       "torch.Size([228146, 100])"
      ]
     },
     "execution_count": 33,
     "metadata": {},
     "output_type": "execute_result"
    }
   ],
   "source": [
    "# Now we can get output of hidden layer like so:\n",
    "h = torch.tanh(emb.view((-1, 6)) @ W1 + b1)\n",
    "\n",
    "# Note the broadcasting here: \n",
    "# matrix product is m x 100 \n",
    "# b1 is (, 100) so treated as 1 x 100 row vector and applied to each row of matrix product (this is what we want in this case)\n",
    "h.shape"
   ]
  },
  {
   "cell_type": "code",
   "execution_count": 35,
   "id": "cc489b76-47b5-4066-be86-761acea434bf",
   "metadata": {},
   "outputs": [],
   "source": [
    "# Last layer input is 100, output is 27 for each character\n",
    "W2 = torch.randn((100, 27))\n",
    "b2 = torch.randn(27)\n",
    "\n",
    "probs = torch.softmax((h @ W2 + b2), 1)"
   ]
  },
  {
   "cell_type": "code",
   "execution_count": 37,
   "id": "f3216069-91cb-479b-8879-880a8db21625",
   "metadata": {},
   "outputs": [
    {
     "data": {
      "text/plain": [
       "torch.Size([228146])"
      ]
     },
     "execution_count": 37,
     "metadata": {},
     "output_type": "execute_result"
    }
   ],
   "source": [
    "probs.sum(1).shape"
   ]
  },
  {
   "cell_type": "markdown",
   "id": "47948e8b-30c8-49cb-bfba-88c97de28834",
   "metadata": {},
   "source": [
    "### Why use F.cross_entropy\n",
    " - Same exact computation\n",
    " - Reduces amount of memory created to compute loss\n",
    " - Is more numerically stable. I.e avoids 'inf' issues by subtracting by max(logit) before computing torch.exp()\n",
    " - Much simpler to compute backward pass of full cross_entropy loss instead of computing backward pass of each individual computation (recall that gradient of cross entropy is actually a simple expression based on loss.data)\n"
   ]
  },
  {
   "cell_type": "code",
   "execution_count": null,
   "id": "28632762-c27c-45d4-929c-03cb5f89bd59",
   "metadata": {},
   "outputs": [],
   "source": [
    "# Now let's formally organize this NN:"
   ]
  },
  {
   "cell_type": "code",
   "execution_count": 76,
   "id": "09097336-20ed-4dda-a089-a3462d91ae9e",
   "metadata": {},
   "outputs": [],
   "source": [
    "# Data\n",
    "X, Y = process_data(block_size=3, words=words)\n",
    "\n",
    "# Params\n",
    "g=torch.Generator().manual_seed(2147483647)\n",
    "C = torch.randn((27, 2), generator=g, requires_grad=True)\n",
    "W1 = torch.randn((6, 100), generator=g, requires_grad=True)\n",
    "b1 = torch.randn(100, generator=g, requires_grad=True)\n",
    "W2 = torch.randn((100, 27), generator=g, requires_grad=True)\n",
    "b2 = torch.randn(27, generator=g, requires_grad=True)\n",
    "params = [C, W1, b1, W2, b2]"
   ]
  },
  {
   "cell_type": "code",
   "execution_count": 63,
   "id": "57823045-be6c-4202-8002-72d4d4a518c5",
   "metadata": {},
   "outputs": [
    {
     "data": {
      "text/plain": [
       "3481"
      ]
     },
     "execution_count": 63,
     "metadata": {},
     "output_type": "execute_result"
    }
   ],
   "source": [
    "# Number of parameters:\n",
    "sum(p.nelement() for p in params)"
   ]
  },
  {
   "cell_type": "code",
   "execution_count": 120,
   "id": "5b65e432-3618-46bc-a89b-71940349306e",
   "metadata": {},
   "outputs": [],
   "source": [
    "# Notice that descent takes a long time to compute. We need to use BGD so we are not computing full gradient for entire dataset\n",
    "# every time. It is much better and more efficient to follow approximate gradient with more steps than the exact gradient with\n",
    "# fewer steps\n",
    "def descent(iters, lr, batch_sz, data, labels):\n",
    "    for i in range(iters):\n",
    "        # Get a batch of data by randomly selecting row indices for X and Y\n",
    "        batch = torch.randint(0, data.shape[0], (batch_sz, ))\n",
    "        \n",
    "        # Forward pass:\n",
    "        emb = C[data[batch]]\n",
    "        h = torch.tanh(emb.view(-1, 6) @ W1 + b1)\n",
    "        logits = h@W2 + b2\n",
    "        loss = F.cross_entropy(logits, labels[batch]) # cross entropy takes in logits, not probabilities\n",
    "        # if i%10==0:print(loss.item())\n",
    "        \n",
    "        # Backward pass:\n",
    "        for p in params:\n",
    "            p.grad=None\n",
    "        loss.backward()\n",
    "        for p in params:\n",
    "            p.data += -lr*p.grad\n",
    "\n",
    "descent(100, 0.01, 32, X, Y)"
   ]
  },
  {
   "cell_type": "code",
   "execution_count": 100,
   "id": "ca93b79d-b1a2-4a5a-8a32-cc74b1456d8d",
   "metadata": {},
   "outputs": [
    {
     "data": {
      "text/plain": [
       "tensor(2.3024, grad_fn=<NllLossBackward0>)"
      ]
     },
     "execution_count": 100,
     "metadata": {},
     "output_type": "execute_result"
    }
   ],
   "source": [
    "# This snippet is to print full loss after batch training\n",
    "emb = C[X]\n",
    "h = torch.tanh(emb.view(-1, 6) @ W1 + b1)\n",
    "logits = h@W2 + b2\n",
    "loss = F.cross_entropy(logits, Y) \n",
    "loss"
   ]
  },
  {
   "cell_type": "markdown",
   "id": "779a0661-23d1-434b-bef7-7235286bf39a",
   "metadata": {},
   "source": [
    "### How to determine a reasonable learning rate?\n",
    "\n",
    " - Find an upper and lower bound where if exceeded, descent is no longer really optimizing\n",
    " - Can use torch or `np.linspace(lower, upper, steps)` to get all possible learning rates\n",
    " - Throughout descent change lr each time and track stats (i.e. at learning rate i, achieved loss i)\n",
    " - Plot this, use a valley in loss where it's fairly stable (not going up and down much) as learning rate\n",
    " - From the plot below we can see that a good learning rate here is around 0.1 or 0.2\n",
    " - Towards the end of training we can use learning rate decay to improve loss"
   ]
  },
  {
   "cell_type": "code",
   "execution_count": 73,
   "id": "e86432c9-e1f7-4674-8b05-da4147f42b32",
   "metadata": {},
   "outputs": [
    {
     "data": {
      "text/plain": [
       "[<matplotlib.lines.Line2D at 0x7fb9087d5c70>]"
      ]
     },
     "execution_count": 73,
     "metadata": {},
     "output_type": "execute_result"
    },
    {
     "data": {
      "image/png": "[encoded data removed]",
      "text/plain": [
       "<Figure size 640x480 with 1 Axes>"
      ]
     },
     "metadata": {},
     "output_type": "display_data"
    }
   ],
   "source": [
    "# Here is this process visualized:\n",
    "lrs = torch.linspace(1e-3, 1, 1000)\n",
    "\n",
    "def descent_stats(iters, batch_sz):\n",
    "    lossi = []\n",
    "    for i in range(iters):\n",
    "        # Get a batch of data by randomly selecting row indices for X and Y\n",
    "        batch = torch.randint(0, X.shape[0], (batch_sz, ))\n",
    "        \n",
    "        # Forward pass:\n",
    "        emb = C[X[batch]]\n",
    "        h = torch.tanh(emb.view(-1, 6) @ W1 + b1)\n",
    "        logits = h@W2 + b2\n",
    "        loss = F.cross_entropy(logits, Y[batch]) # cross entropy takes in logits, not probabilities\n",
    "        \n",
    "        # Backward pass:\n",
    "        for p in params:\n",
    "            p.grad=None\n",
    "        loss.backward()\n",
    "\n",
    "        lr = lrs[i]\n",
    "        for p in params:\n",
    "            p.data += -lr*p.grad\n",
    "\n",
    "        # update stats\n",
    "        lossi.append(loss.item())\n",
    "    return lossi\n",
    "\n",
    "losses = descent_stats(1000, 32)\n",
    "plt.plot(lrs, losses)"
   ]
  },
  {
   "cell_type": "markdown",
   "id": "0058b40d-3bb6-4cce-a693-0bb6f6b021f2",
   "metadata": {},
   "source": [
    "### On model size and loss\n",
    " - As model grows in parameters, it will be able to overfit the data exactly and we will eventually be able to to get 0 loss\n",
    " - This isn't valuable however because it essentially only memorizes the training data. Won't be able to generate anything new/useful anymore\n",
    " - For this reason we split data into training, dev/validation, and testing splits\n",
    " - If we see that the loss of training and dev are roughly equal after training this is known as \"underfitting\"\n",
    "This means that we can __improve performance by increasing the size of our model__\n"
   ]
  },
  {
   "cell_type": "code",
   "execution_count": 121,
   "id": "9db87fa5-46a4-4947-bb4f-bc15886f83ec",
   "metadata": {},
   "outputs": [],
   "source": [
    "# Let's generate these splits by changing up our process_data function\n",
    "import random\n",
    "random.seed(42)\n",
    "random.shuffle(words) # does this in-place\n",
    "\n",
    "n1, n2 = int(0.8 * len(words)), int(0.9 * len(words))\n",
    "trX, trY = process_data(3, words[:n1])\n",
    "devX, devY = process_data(3, words[n1:n2])\n",
    "testX, testY = process_data(3, words[n2:])"
   ]
  },
  {
   "cell_type": "code",
   "execution_count": 122,
   "id": "d618bb7c-1f55-4063-aa5d-870343f03725",
   "metadata": {},
   "outputs": [],
   "source": [
    "# I will now go back up, reset parameters and redo training and testing\n",
    "\n",
    "# Params\n",
    "g=torch.Generator().manual_seed(2147483647)\n",
    "C = torch.randn((27, 2), generator=g, requires_grad=True)\n",
    "W1 = torch.randn((6, 100), generator=g, requires_grad=True)\n",
    "b1 = torch.randn(100, generator=g, requires_grad=True)\n",
    "W2 = torch.randn((100, 27), generator=g, requires_grad=True)\n",
    "b2 = torch.randn(27, generator=g, requires_grad=True)\n",
    "params = [C, W1, b1, W2, b2]"
   ]
  },
  {
   "cell_type": "code",
   "execution_count": 128,
   "id": "72d7fe2d-56a5-479b-99cf-eca6e1527863",
   "metadata": {},
   "outputs": [],
   "source": [
    "descent(iters=20000 , lr=0.1 , batch_sz=32 , data=trX, labels=trY)"
   ]
  },
  {
   "cell_type": "code",
   "execution_count": 129,
   "id": "8a914fcc-a9a9-4652-8f9b-240d60227eff",
   "metadata": {},
   "outputs": [
    {
     "name": "stdout",
     "output_type": "stream",
     "text": [
      "dev loss = 2.420773983001709\n",
      "training loss = 2.4073550701141357\n"
     ]
    }
   ],
   "source": [
    "# Evaluating model on dev loss:\n",
    "emb = C[devX]\n",
    "h = torch.tanh(emb.view(-1, 6) @ W1 + b1)\n",
    "logits = h @ W2 + b2\n",
    "loss = F.cross_entropy(logits,devY)\n",
    "print(f'dev loss = {loss.item()}')\n",
    "\n",
    "# Checking training loss:\n",
    "emb = C[trX]\n",
    "h = torch.tanh(emb.view(-1, 6) @ W1 + b1)\n",
    "logits = h @ W2 + b2\n",
    "loss = F.cross_entropy(logits,trY)\n",
    "print(f'training loss = {loss.item()}')"
   ]
  },
  {
   "cell_type": "code",
   "execution_count": 188,
   "id": "8f0bb158-63fd-443d-912d-a07d66064c3d",
   "metadata": {},
   "outputs": [],
   "source": [
    "# We see that dev and training loss is about the same therefore we are underfitting and would benefit from a larger model \n",
    "# with more parameters\n",
    "\n",
    "# Issue is a lot of our stuff is hardcoded so we must refactor our codebase a bit\n",
    "# # New Params, we will increase size of hidden layer and dimensionality of embedding\n",
    "# g=torch.Generator().manual_seed(2147483647)\n",
    "# C = torch.randn((27, 8), generator=g, requires_grad=True)\n",
    "# W1 = torch.randn((24, 200), generator=g, requires_grad=True)\n",
    "# b1 = torch.randn(200, generator=g, requires_grad=True)\n",
    "# W2 = torch.randn((200, 27), generator=g, requires_grad=True)\n",
    "# b2 = torch.randn(27, generator=g, requires_grad=True)\n",
    "# params = [C, W1, b1, W2, b2]\n",
    "\n",
    "lossi, stepi = [], []\n",
    "def descent(iters, lr, batch_sz, data, labels, decay_threshold = float('inf'), beta = 1e-3):\n",
    "    for i in range(iters):\n",
    "        # Get a batch of data by randomly selecting row indices for X and Y\n",
    "        batch = torch.randint(0, data.shape[0], (batch_sz, ))\n",
    "        \n",
    "        # Forward pass:\n",
    "        emb = C[data[batch]]\n",
    "        h = torch.tanh(emb.view(-1, emb.shape[1]*emb.shape[2]) @ W1 + b1)\n",
    "        logits = h@W2 + b2\n",
    "        loss = F.cross_entropy(logits, labels[batch])\n",
    "        loss += beta * ((W1**2).mean() + (W2**2).mean() + (C**2).mean()) # With regularization\n",
    "        # if i%10==0:print(loss.item())\n",
    "        \n",
    "        # Backward pass:\n",
    "        for p in params:\n",
    "            p.grad=None\n",
    "        loss.backward()\n",
    "        for p in params:\n",
    "            if iters < decay_threshold:\n",
    "                p.data += -lr*p.grad\n",
    "            else:\n",
    "                p.data += -(lr * 2e-1)*p.grad\n",
    "                \n",
    "\n",
    "        # # track some stats\n",
    "        # stepi.append(i)\n",
    "        # lossi.append(loss.item())\n",
    "\n",
    "def eval_loss(data, labels):\n",
    "    emb = C[data]\n",
    "    h = torch.tanh(emb.view(-1, emb.shape[1]*emb.shape[2]) @ W1 + b1)\n",
    "    logits = h @ W2 + b2\n",
    "    loss = F.cross_entropy(logits, labels)\n",
    "    return loss"
   ]
  },
  {
   "cell_type": "code",
   "execution_count": 146,
   "id": "c131cc52-a49e-4422-bd9d-10ecce1a84e2",
   "metadata": {},
   "outputs": [
    {
     "data": {
      "text/plain": [
       "(2.173098087310791, 2.1485660076141357)"
      ]
     },
     "execution_count": 146,
     "metadata": {},
     "output_type": "execute_result"
    }
   ],
   "source": [
    "descent(10000, lr = 0.005, batch_sz = 112, data=trX, labels=trY) # training new, bigger model\n",
    "\n",
    "#peep the dev and training loss\n",
    "eval_loss(devX, devY).item(), eval_loss(trX, trY).item()"
   ]
  },
  {
   "cell_type": "code",
   "execution_count": 145,
   "id": "57a9dbf2-d4ce-4ae1-9c4c-90e8127a4758",
   "metadata": {},
   "outputs": [
    {
     "data": {
      "text/plain": [
       "[<matplotlib.lines.Line2D at 0x7fb908d36f10>]"
      ]
     },
     "execution_count": 145,
     "metadata": {},
     "output_type": "execute_result"
    },
    {
     "data": {
      "image/png": "[encoded data removed]",
      "text/plain": [
       "<Figure size 640x480 with 1 Axes>"
      ]
     },
     "metadata": {},
     "output_type": "display_data"
    }
   ],
   "source": [
    "plt.plot(stepi, torch.log10(torch.tensor(lossi)).data)"
   ]
  },
  {
   "cell_type": "code",
   "execution_count": 189,
   "id": "be207f9c-1ca5-4524-bbf8-21a1be2fce38",
   "metadata": {},
   "outputs": [
    {
     "data": {
      "text/plain": [
       "(37.25190353393555, 37.18149185180664)"
      ]
     },
     "execution_count": 189,
     "metadata": {},
     "output_type": "execute_result"
    }
   ],
   "source": [
    "# Let's try to beat this loss by evaluating words based on 5 characters worth of context instead of the previous\n",
    "random.shuffle(words) # does this in-place\n",
    "\n",
    "# New data:\n",
    "n1, n2 = int(0.8 * len(words)), int(0.9 * len(words))\n",
    "trX, trY = process_data(4, words[:n1])\n",
    "devX, devY = process_data(4, words[n1:n2])\n",
    "testX, testY = process_data(4, words[n2:])\n",
    "\n",
    "# New params:\n",
    "C = torch.randn((27, 10), generator=g, requires_grad=True)\n",
    "W1 = torch.randn((40, 400), generator=g, requires_grad=True)\n",
    "b1 = torch.randn(400, generator=g, requires_grad=True)\n",
    "W2 = torch.randn((400, 27), generator=g, requires_grad=True)\n",
    "b2 = torch.randn(27, generator=g, requires_grad=True)\n",
    "params = [C, W1, b1, W2, b2]\n",
    "\n",
    "# Initial losses of training and dev:\n",
    "eval_loss(devX, devY).item(), eval_loss(trX, trY).item()"
   ]
  },
  {
   "cell_type": "code",
   "execution_count": 190,
   "id": "cca4a701-f853-4233-8c68-9aab29cad3fc",
   "metadata": {},
   "outputs": [
    {
     "data": {
      "text/plain": [
       "27497"
      ]
     },
     "execution_count": 190,
     "metadata": {},
     "output_type": "execute_result"
    }
   ],
   "source": [
    "# Number of parameters:\n",
    "sum(p.nelement() for p in params)"
   ]
  },
  {
   "cell_type": "code",
   "execution_count": 300,
   "id": "be4a6c9a-6f56-4c36-b3b8-c580a9b755d9",
   "metadata": {},
   "outputs": [
    {
     "data": {
      "text/plain": [
       "(2.150073528289795, 2.1234500408172607)"
      ]
     },
     "execution_count": 300,
     "metadata": {},
     "output_type": "execute_result"
    }
   ],
   "source": [
    "# Training:\n",
    "descent(iters=50, lr=0.0005, batch_sz=10000, data=trX, labels=trY, beta = 5e-2)\n",
    "\n",
    "# Final losses of training and dev:\n",
    "eval_loss(devX, devY).item(), eval_loss(trX, trY).item()"
   ]
  },
  {
   "cell_type": "code",
   "execution_count": 303,
   "id": "f86a24c4-d77b-40fb-be73-71f4088a4c06",
   "metadata": {},
   "outputs": [
    {
     "name": "stdout",
     "output_type": "stream",
     "text": [
      "hand\n",
      "rooman\n",
      "decmuryan\n",
      "arisson\n",
      "crgstiele\n",
      "jazon\n",
      "makkika\n",
      "kayzel\n",
      "nackiss\n",
      "xiynnn\n"
     ]
    }
   ],
   "source": [
    "# Sample from the model:\n",
    "def sample(num, block_sz):\n",
    "    for _ in range(num):\n",
    "        context = [0]*block_sz\n",
    "        out=[]\n",
    "        while True:\n",
    "            emb = C[torch.tensor(context)]\n",
    "            h = torch.tanh(emb.view(1, -1) @ W1 + b1)\n",
    "            logits = h @ W2 + b2\n",
    "            probs = F.softmax(logits, dim=1)\n",
    "            ix = torch.multinomial(probs, num_samples=1, replacement=True).item()\n",
    "            context = context[1:] + [ix]\n",
    "            if ix == 0:\n",
    "                break\n",
    "            out.append(ix)\n",
    "        print(''.join(itos[i] for i in out))\n",
    "\n",
    "sample(10, 4)"
   ]
  },
  {
   "cell_type": "code",
   "execution_count": 288,
   "id": "abec419a-fc6c-4207-b1c4-27b23a406b56",
   "metadata": {},
   "outputs": [
    {
     "data": {
      "text/plain": [
       "tensor(2.1550, grad_fn=<NllLossBackward0>)"
      ]
     },
     "execution_count": 288,
     "metadata": {},
     "output_type": "execute_result"
    }
   ],
   "source": [
    "eval_loss(testX, testY)"
   ]
  },
  {
   "cell_type": "markdown",
   "id": "c54ff226-4412-4a16-af6f-3f4956603c9c",
   "metadata": {},
   "source": [
    "### Conclusion\n",
    "\n",
    "As we can see from our model sampling and our loss, this MLP approach to LMs is much more effective and accurate compared to n-grams. "
   ]
  }
 ],
 "metadata": {
  "kernelspec": {
   "display_name": "Python 3 (ipykernel)",
   "language": "python",
   "name": "python3"
  },
  "language_info": {
   "codemirror_mode": {
    "name": "ipython",
    "version": 3
   },
   "file_extension": ".py",
   "mimetype": "text/x-python",
   "name": "python",
   "nbconvert_exporter": "python",
   "pygments_lexer": "ipython3",
   "version": "3.9.6"
  }
 },
 "nbformat": 4,
 "nbformat_minor": 5
}
